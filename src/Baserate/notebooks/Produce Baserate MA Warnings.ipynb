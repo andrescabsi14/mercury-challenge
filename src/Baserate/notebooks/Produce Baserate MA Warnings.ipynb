{
 "cells": [
  {
   "cell_type": "markdown",
   "metadata": {},
   "source": [
    "# Producing Mercury Challenge MA Baserate Models"
   ]
  },
  {
   "cell_type": "markdown",
   "metadata": {},
   "source": [
    "This notebook illustrates a backtest of the Mercury Challenge Baserate models for Military Activity.  See [Developing Mercury Time Series Models](./Fit%20CU%20Time%20Series%20Models.ipynb) for model development details."
   ]
  },
  {
   "cell_type": "code",
   "execution_count": 1,
   "metadata": {},
   "outputs": [],
   "source": [
    "%matplotlib inline"
   ]
  },
  {
   "cell_type": "code",
   "execution_count": 2,
   "metadata": {},
   "outputs": [],
   "source": [
    "import os, re\n",
    "import json\n",
    "import pandas as pd\n",
    "import numpy as np\n",
    "import statsmodels.api as sm\n",
    "from statsmodels.graphics.tsaplots import (plot_acf, plot_pacf)\n",
    "from statsmodels.tsa.stattools import adfuller\n",
    "from sklearn.metrics import mean_squared_error\n",
    "import datetime\n",
    "from dateutil.parser import parse\n",
    "import sys\n",
    "sys.path.append((\"../..\"))\n",
    "from Baserate.main.baserate import (\n",
    "    MaBaserate\n",
    ")\n",
    "from ExpressScore.main.express_score import MaScorer\n",
    "import warnings\n",
    "warnings.filterwarnings(\"ignore\")\n",
    "\n",
    "import matplotlib\n",
    "import matplotlib.pyplot as plt\n",
    "matplotlib.style.use(\"fivethirtyeight\");"
   ]
  },
  {
   "cell_type": "markdown",
   "metadata": {},
   "source": [
    "In the cell below replace the dates for `WARN_START_DATE` and `WARN_END_DATE`."
   ]
  },
  {
   "cell_type": "code",
   "execution_count": 3,
   "metadata": {},
   "outputs": [],
   "source": [
    "EVT_ABBR = \"MA\"\n",
    "MC_HOME = os.path.abspath(\"../../..\")\n",
    "DOC_PATH = os.path.join(MC_HOME, \"doc\")\n",
    "EVT_DOC_PATH = os.path.join(DOC_PATH, \"scoring\", EVT_ABBR)\n",
    "DATA_PATH = os.path.join(MC_HOME, \"data\")\n",
    "GSR_PATH = os.path.join(DATA_PATH, \"gsr\")\n",
    "MA_GSR_PATH = os.path.join(GSR_PATH, \"ma_gsr\")\n",
    "WARN_PATH = os.path.join(DATA_PATH, \"baserate_warnings\")\n",
    "MA_WARN_PATH = os.path.join(WARN_PATH, \"baserate_ma_warnings\")\n",
    "RESOURCE_PATH = os.path.join(MC_HOME, \"src\", \"Baserate\", \"resources\")\n",
    "HISTORY_LOOKBACK = 365\n",
    "HISTORY_DELAY = 15\n",
    "WARN_START_DATE = \"2018-01-09\"\n",
    "WARN_END_DATE = \"2019-01-22\"\n",
    "test_range = pd.date_range(WARN_START_DATE, WARN_END_DATE)\n",
    "test_months = set([dd.strftime(\"%B_%Y\") for dd in test_range])\n",
    "PARTICIPANT_ID = \"Mercury_Baserate\""
   ]
  },
  {
   "cell_type": "markdown",
   "metadata": {},
   "source": [
    "In Challenge Period 2 we are only going to score Syria and Iraq."
   ]
  },
  {
   "cell_type": "code",
   "execution_count": 4,
   "metadata": {},
   "outputs": [],
   "source": [
    "MA_COUNTRIES = [\"Iraq\", \"Syria\"]"
   ]
  },
  {
   "cell_type": "code",
   "execution_count": 5,
   "metadata": {},
   "outputs": [
    {
     "data": {
      "text/plain": [
       "{'April_2018',\n",
       " 'August_2018',\n",
       " 'December_2018',\n",
       " 'February_2018',\n",
       " 'January_2018',\n",
       " 'January_2019',\n",
       " 'July_2018',\n",
       " 'June_2018',\n",
       " 'March_2018',\n",
       " 'May_2018',\n",
       " 'November_2018',\n",
       " 'October_2018',\n",
       " 'September_2018'}"
      ]
     },
     "execution_count": 5,
     "metadata": {},
     "output_type": "execute_result"
    }
   ],
   "source": [
    "test_months"
   ]
  },
  {
   "cell_type": "markdown",
   "metadata": {},
   "source": [
    "Load the GSR from the directory"
   ]
  },
  {
   "cell_type": "code",
   "execution_count": 6,
   "metadata": {},
   "outputs": [
    {
     "name": "stdout",
     "output_type": "stream",
     "text": [
      "['MA_May_2015.json', 'MA_August_2018.json', 'MA_September_2017.json', 'MA_January_2016.json', 'MA_November_2017.json', 'MA_October_2017.json', 'MA_April_2017.json', 'MA_March_2018.json', 'MA_August_2015.json', 'MA_February_2018.json', 'MA_May_2018.json', 'MA_April_2016.json', 'MA_October_2016.json', 'MA_November_2016.json', 'MA_January_2017.json', 'MA_September_2016.json', 'MA_June_2015.json', 'MA_July_2016.json', 'MA_December_2016.json', 'MA_June_2018.json', 'MA_December_2017.json', 'MA_July_2017.json', 'MA_June_2017.json', 'MA_December_2018.json', 'MA_July_2018.json', 'MA_July_2015.json', 'MA_June_2016.json', 'MA_December_2015.json', 'MA_October_2015.json', 'MA_November_2015.json', 'MA_September_2015.json', 'MA_March_2017.json', 'MA_February_2017.json', 'MA_May_2017.json', 'MA_January_2018.json', 'MA_August_2016.json', 'MA_August_2017.json', 'MA_September_2018.json', 'MA_November_2018.json', 'MA_April_2018.json', 'MA_October_2018.json', 'MA_May_2016.json', 'MA_February_2016.json', 'MA_March_2016.json']\n",
      "98822\n"
     ]
    }
   ],
   "source": [
    "gsr_files = [x for x in os.listdir(MA_GSR_PATH) if x.endswith(\"json\")]\n",
    "print(gsr_files)\n",
    "gsr = []\n",
    "for gf in gsr_files:\n",
    "    with open(os.path.join(MA_GSR_PATH, gf), \"r\", encoding=\"utf-8-sig\") as f:\n",
    "        monthly_gsr = json.load(f)\n",
    "        gsr += monthly_gsr\n",
    "print(len(gsr))"
   ]
  },
  {
   "cell_type": "code",
   "execution_count": 7,
   "metadata": {},
   "outputs": [
    {
     "name": "stdout",
     "output_type": "stream",
     "text": [
      "Iraq\n",
      "There are 23163 GSR events\n",
      "8471\n",
      "/Users/peterhaglich/Dropbox/Work/IARPA/Mercury/peterhaglich/mercury-challenge/data/baserate_warnings/baserate_ma_warnings/Iraq/Baserate_MA_Iraq_2018-01-09_to_2019-01-22.json\n",
      "Syria\n",
      "There are 71440 GSR events\n",
      "23293\n",
      "/Users/peterhaglich/Dropbox/Work/IARPA/Mercury/peterhaglich/mercury-challenge/data/baserate_warnings/baserate_ma_warnings/Syria/Baserate_MA_Syria_2018-01-09_to_2019-01-22.json\n"
     ]
    }
   ],
   "source": [
    "for cc in MA_COUNTRIES:\n",
    "    print(cc)\n",
    "    cc_path_str = re.sub(\" \", \"_\", cc)\n",
    "    br = MaBaserate(cc)\n",
    "    cc_gsr = [x for x in gsr if x[\"Country\"] == cc]\n",
    "    print(\"There are {} GSR events\".format(len(cc_gsr)))\n",
    "\n",
    "    try:\n",
    "        preds=br.make_predictions(WARN_START_DATE, WARN_END_DATE, history_delay=HISTORY_DELAY,\n",
    "                                  gsr=cc_gsr)\n",
    "        print(len(preds))\n",
    "\n",
    "        pred_json = br.convert_warnings_to_json(preds)\n",
    "    except AttributeError:\n",
    "        pred_json = {\"participant_id\": \"Mercury_Baserate\", \"payload\": []}\n",
    "\n",
    "    out_filename = \"Baserate_MA_{0}_{1}_to_{2}.json\".format(cc_path_str, \n",
    "                                                            WARN_START_DATE, WARN_END_DATE)\n",
    "    out_path = os.path.join(MA_WARN_PATH, cc_path_str, out_filename)\n",
    "    if True:\n",
    "        with open(out_path, \"w\") as f:\n",
    "            json.dump(pred_json, f, ensure_ascii=False, indent=2)\n",
    "    print(out_path)"
   ]
  },
  {
   "cell_type": "code",
   "execution_count": 8,
   "metadata": {},
   "outputs": [
    {
     "data": {
      "text/plain": [
       "[]"
      ]
     },
     "execution_count": 8,
     "metadata": {},
     "output_type": "execute_result"
    }
   ],
   "source": [
    "[p[\"Warning_ID\"] for p in pred_json[\"payload\"] if p[\"Latitude\"] == \"Latitude\"]"
   ]
  },
  {
   "cell_type": "code",
   "execution_count": 9,
   "metadata": {},
   "outputs": [
    {
     "data": {
      "text/plain": [
       "{'Event_Date': '2018-02-06',\n",
       " 'timestamp': '2018-02-03T21:27:51.0',\n",
       " 'Event_Subtype': 'Conflict',\n",
       " 'Actor': 'Russian Military',\n",
       " 'City': 'Jabal al Akrād',\n",
       " 'Latitude': 35.65,\n",
       " 'Longitude': 36.2,\n",
       " 'State': 'Latakia',\n",
       " 'Country': 'Syria',\n",
       " 'Event_Type': 'Military Activity',\n",
       " 'Warning_ID': 'Mercury_Baserate4355d390b28b41439190ac695698c78f'}"
      ]
     },
     "execution_count": 9,
     "metadata": {},
     "output_type": "execute_result"
    }
   ],
   "source": [
    "pred_json[\"payload\"][0]"
   ]
  },
  {
   "cell_type": "code",
   "execution_count": null,
   "metadata": {},
   "outputs": [],
   "source": []
  }
 ],
 "metadata": {
  "kernelspec": {
   "display_name": "Python 3",
   "language": "python",
   "name": "python3"
  },
  "language_info": {
   "codemirror_mode": {
    "name": "ipython",
    "version": 3
   },
   "file_extension": ".py",
   "mimetype": "text/x-python",
   "name": "python",
   "nbconvert_exporter": "python",
   "pygments_lexer": "ipython3",
   "version": "3.6.5"
  }
 },
 "nbformat": 4,
 "nbformat_minor": 2
}
