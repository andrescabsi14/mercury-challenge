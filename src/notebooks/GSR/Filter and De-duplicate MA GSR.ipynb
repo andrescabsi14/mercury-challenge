{
 "cells": [
  {
   "cell_type": "code",
   "execution_count": 1,
   "metadata": {},
   "outputs": [
    {
     "data": {
      "text/plain": [
       "'/Users/peterhaglich/Dropbox/Work/IARPA/Mercury/peterhaglich/mercury-challenge-team/scoring_code/src/test/scoring_test/GSR'"
      ]
     },
     "execution_count": 1,
     "metadata": {},
     "output_type": "execute_result"
    }
   ],
   "source": [
    "pwd"
   ]
  },
  {
   "cell_type": "code",
   "execution_count": 2,
   "metadata": {
    "collapsed": true
   },
   "outputs": [],
   "source": [
    "%matplotlib inline"
   ]
  },
  {
   "cell_type": "code",
   "execution_count": 3,
   "metadata": {},
   "outputs": [],
   "source": [
    "import os\n",
    "import json\n",
    "import sys\n",
    "import re\n",
    "\n",
    "import pandas as pd\n",
    "import numpy as np\n",
    "import matplotlib\n",
    "import matplotlib.pyplot as plt\n",
    "matplotlib.style.use(\"fivethirtyeight\")\n",
    "\n",
    "from dateutil.parser import parse\n",
    "import datetime\n",
    "\n",
    "from geopy.distance import vincenty"
   ]
  },
  {
   "cell_type": "code",
   "execution_count": 4,
   "metadata": {
    "collapsed": true
   },
   "outputs": [],
   "source": [
    "MERC_HOME = os.path.join(\"..\", \"..\", \"..\", \"..\", \"..\", \"..\", \"mercury\")\n",
    "MERC_DATA_PATH = os.path.join(MERC_HOME, \"data\")\n",
    "MERC_GSR_PATH = os.path.join(MERC_DATA_PATH, \"gsr\")\n",
    "MERC_MA_PATH = os.path.join(MERC_GSR_PATH, \"mansa_gsr\")\n",
    "MCT_HOME = os.path.join(\"..\", \"..\", \"..\", \"..\", \"..\")\n",
    "MCT_DATA_PATH = os.path.join(MCT_HOME, \"data\")\n",
    "MCT_GSR_PATH = os.path.join(MCT_DATA_PATH, \"gsr\")\n",
    "MCT_MA_PATH = os.path.join(MCT_GSR_PATH, \"ma_gsr\")\n",
    "MCT_SRC_PATH = os.path.join(MCT_HOME, \"scoring_code\", \"src\", \"main\", \"python\", \"mercury\", \"scoring\")"
   ]
  },
  {
   "cell_type": "code",
   "execution_count": 5,
   "metadata": {},
   "outputs": [
    {
     "data": {
      "text/plain": [
       "['MANSA_November_2017.json',\n",
       " 'MANSA_March_2017.json',\n",
       " 'MANSA_July_2017.json',\n",
       " 'MANSA_July_2016.json',\n",
       " 'MANSA_June_2015.json',\n",
       " 'MANSA_February_2018.json',\n",
       " 'MANSA_March_2016.json',\n",
       " 'MANSA_April_2018.json',\n",
       " 'MANSA_September_2015.json',\n",
       " 'MANSA_November_2016.json',\n",
       " 'MANSA_May_2015.json',\n",
       " 'MANSA_October_2015.json',\n",
       " 'MANSA_December_2016.json',\n",
       " 'MANSA_August_2016.json',\n",
       " 'MANSA_January_2018.json',\n",
       " 'MANSA_August_2017.json',\n",
       " 'MANSA_December_2017.json',\n",
       " 'MANSA_October_2017.json',\n",
       " 'MANSA_January_2016.json',\n",
       " 'MANSA_January_2017.json',\n",
       " 'MANSA_October_2016.json',\n",
       " 'MANSA_December_2015.json',\n",
       " 'MANSA_August_2015.json',\n",
       " 'MANSA_February_2017.json',\n",
       " 'MANSA_September_2016.json',\n",
       " 'MANSA_May_2016.json',\n",
       " 'MANSA_November_2015.json',\n",
       " 'MANSA_June_2016.json',\n",
       " 'MANSA_July_2015.json',\n",
       " 'MANSA_April_2017.json',\n",
       " 'MANSA_April_2016.json',\n",
       " 'MANSA_June_2017.json',\n",
       " 'MANSA_March_2018.json',\n",
       " 'MANSA_May_2017.json',\n",
       " 'MANSA_September_2017.json',\n",
       " 'MANSA_February_2016.json']"
      ]
     },
     "execution_count": 5,
     "metadata": {},
     "output_type": "execute_result"
    }
   ],
   "source": [
    "ma_gsr = []\n",
    "ma_files = [x for x in os.listdir(MERC_MA_PATH) if \"Dup\" not in x\n",
    "            if x.startswith(\"MA\")\n",
    "            if x.endswith(\"json\")]\n",
    "ma_files"
   ]
  },
  {
   "cell_type": "code",
   "execution_count": 6,
   "metadata": {},
   "outputs": [],
   "source": [
    "for file_ in ma_files:\n",
    "    try:\n",
    "        path_ = os.path.join(MERC_MA_PATH, file_)\n",
    "        with open(path_, \"r\", encoding=\"utf8\") as f:\n",
    "            gsr_ = json.load(f)\n",
    "            ma_gsr += gsr_\n",
    "    except json.JSONDecodeError:\n",
    "        print(file_)"
   ]
  },
  {
   "cell_type": "code",
   "execution_count": 7,
   "metadata": {},
   "outputs": [],
   "source": [
    "ma_gsr_df = pd.DataFrame(ma_gsr)\n",
    "ma_gsr_df = ma_gsr_df[ma_gsr_df.Event_Type == \"Military Action\"]"
   ]
  },
  {
   "cell_type": "code",
   "execution_count": 8,
   "metadata": {},
   "outputs": [],
   "source": [
    "# Replace duplicated event IDs with the latest version.\n",
    "ma_gsr_df[\"Revision_DTG\"] = ma_gsr_df.Revision_Date.apply(parse)\n",
    "for ed, group in ma_gsr_df.groupby(\"Event_ID\"):\n",
    "    newest_index = group.Revision_DTG.argmax()\n",
    "    newest_rev_date = group.Revision_Date[newest_index]\n",
    "    ma_gsr_df.set_value(group.index[0], \"Revision_Date\", newest_rev_date)\n",
    "ma_gsr_df.drop(\"Revision_DTG\", axis=1, inplace=True)\n",
    "ma_gsr_df.drop_duplicates(subset=\"Event_ID\", keep=\"last\", inplace=True)"
   ]
  },
  {
   "cell_type": "code",
   "execution_count": 9,
   "metadata": {},
   "outputs": [
    {
     "data": {
      "text/plain": [
       "Syria           64066\n",
       "Iraq            19562\n",
       "Egypt            1972\n",
       "Lebanon          1321\n",
       "Yemen             443\n",
       "Saudi Arabia      175\n",
       "Jordan             28\n",
       "Bahrain            27\n",
       "Turkey              2\n",
       "Qatar               2\n",
       "Libya               1\n",
       "Palestine           1\n",
       "Name: Country, dtype: int64"
      ]
     },
     "execution_count": 9,
     "metadata": {},
     "output_type": "execute_result"
    }
   ],
   "source": [
    "ma_gsr_df.Country.value_counts()"
   ]
  },
  {
   "cell_type": "markdown",
   "metadata": {},
   "source": [
    "Remove Target fields from the Challenge GSR"
   ]
  },
  {
   "cell_type": "code",
   "execution_count": 12,
   "metadata": {},
   "outputs": [],
   "source": [
    "drop_fields = [x for x in ma_gsr_df.columns if \"Target\" in x]\n",
    "for f in drop_fields:\n",
    "    ma_gsr_df.drop(f, axis=1, inplace=True)"
   ]
  },
  {
   "cell_type": "code",
   "execution_count": 13,
   "metadata": {},
   "outputs": [
    {
     "data": {
      "text/plain": [
       "Actor                                             Unspecified\n",
       "Actor_Status                                              NaN\n",
       "Approximate_Location                                    False\n",
       "Casualties                                       Not Reported\n",
       "City                                                 Munbaţiḩ\n",
       "Country                                                 Syria\n",
       "Earliest_Reported_Date                             2016-02-29\n",
       "Encoding_Comment                                         None\n",
       "Event_Date                                         2016-02-29\n",
       "Event_ID                                              MN34237\n",
       "Event_Subtype                                  Armed Conflict\n",
       "Event_Type                                    Military Action\n",
       "First_Reported_Link        http://www.syriahr.com/en/?p=44624\n",
       "GSS_Link                   http://www.syriahr.com/en/?p=44624\n",
       "Latitude                                              36.7008\n",
       "Longitude                                             38.9414\n",
       "News_Source               Syrian Observatory for Human Rights\n",
       "Other_Links                                              None\n",
       "Revision_Date                                      2016-03-01\n",
       "State                                               Ar-Raqqah\n",
       "Name: 211075, dtype: object"
      ]
     },
     "execution_count": 13,
     "metadata": {},
     "output_type": "execute_result"
    }
   ],
   "source": [
    "ma_gsr_df.iloc[-2]"
   ]
  },
  {
   "cell_type": "markdown",
   "metadata": {},
   "source": [
    "## Export Deduplicated Monthly GSR"
   ]
  },
  {
   "cell_type": "code",
   "execution_count": 14,
   "metadata": {},
   "outputs": [
    {
     "name": "stderr",
     "output_type": "stream",
     "text": [
      "/anaconda3/envs/mercury/lib/python3.6/site-packages/ipykernel_launcher.py:4: SettingWithCopyWarning: \n",
      "A value is trying to be set on a copy of a slice from a DataFrame\n",
      "\n",
      "See the caveats in the documentation: http://pandas.pydata.org/pandas-docs/stable/indexing.html#indexing-view-versus-copy\n",
      "  after removing the cwd from sys.path.\n"
     ]
    }
   ],
   "source": [
    "ma_gsr_df[\"YEARMON\"] = ma_gsr_df.Event_Date.apply(lambda x: parse(x).strftime(\"%B_%Y\"))\n",
    "for yearmon in ma_gsr_df.YEARMON.unique():\n",
    "    df_ = ma_gsr_df[ma_gsr_df.YEARMON == yearmon]\n",
    "    df_.drop(\"YEARMON\", axis=1, inplace=True)\n",
    "    out_filename = \"MA_{}.json\".format(yearmon)\n",
    "    out_path = os.path.join(MCT_MA_PATH, out_filename)\n",
    "    out_json = df_.to_json(force_ascii=False, orient=\"records\", path_or_buf=out_path)"
   ]
  },
  {
   "cell_type": "code",
   "execution_count": null,
   "metadata": {
    "collapsed": true
   },
   "outputs": [],
   "source": []
  }
 ],
 "metadata": {
  "kernelspec": {
   "display_name": "Python 3",
   "language": "python",
   "name": "python3"
  },
  "language_info": {
   "codemirror_mode": {
    "name": "ipython",
    "version": 3
   },
   "file_extension": ".py",
   "mimetype": "text/x-python",
   "name": "python",
   "nbconvert_exporter": "python",
   "pygments_lexer": "ipython3",
   "version": "3.6.3"
  }
 },
 "nbformat": 4,
 "nbformat_minor": 2
}
