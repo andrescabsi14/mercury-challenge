{
 "cells": [
  {
   "cell_type": "markdown",
   "metadata": {},
   "source": [
    "# Retrieving Participant Warnings for Mercury Challenge Using Python"
   ]
  },
  {
   "cell_type": "markdown",
   "metadata": {},
   "source": [
    "This notebook will walk through the process of retrieving a particpant's Mercury Challenge warnings using the Python's **Requests** library.  As with warning submissions a challenge participant must be registered with TopCoder and be in possession of an API key, which will be used to authenticate submissions.  For more information on this please see https://iarpa.gov/challenges/mercury.html and TopCoder's instructions at https://docs.google.com/document/d/1KViMdqLFecnjEur6pE6-fHKcoO94PkK1g7XWwpEyCOE/edit\n",
    "\n",
    "In this notebook we will use the fictional participant name \"testuser\" who has obtained the API key \"mysecretkey\" after registering for the challenge.  This participant has previously submitted warnings and wants to examine the warning submission history."
   ]
  },
  {
   "cell_type": "markdown",
   "metadata": {},
   "source": [
    "The history retrieval URL for the challenge is https://87g554i96c.execute-api.us-east-1.amazonaws.com/Production/warning/history.  Submissions must use **GET** and must have the following header:\n",
    "- \"x-api-key:TopCoderusername:token\"\n",
    "\n",
    "\n",
    "Note that you will not be able to run these commands directly from this notebook without modification.  You will need to use your own user name and token and you'll need to modify the query content."
   ]
  },
  {
   "cell_type": "markdown",
   "metadata": {},
   "source": [
    "### Required Elements"
   ]
  },
  {
   "cell_type": "markdown",
   "metadata": {},
   "source": [
    "- `participant_id`\n",
    "- `start_date`\n",
    "- `end_date`\n",
    "- `page` (This uses zero-based indexing, i.e. the first page is numbered `0`)"
   ]
  },
  {
   "cell_type": "markdown",
   "metadata": {},
   "source": [
    "### Optional Elements"
   ]
  },
  {
   "cell_type": "markdown",
   "metadata": {},
   "source": [
    "- `event_type`: If present, must be one of `Military Activity`, `Civil Unrest`, or `Disease`\n",
    "- `country`\n",
    "- `state`: For `event_type=CU` this must be one of `Amman`, `Irbid`, `Madaba`\n",
    "- `city`:  For `event_type=CU` this must be `Tahrir Square`"
   ]
  },
  {
   "cell_type": "markdown",
   "metadata": {},
   "source": [
    "## Example Using curl"
   ]
  },
  {
   "cell_type": "raw",
   "metadata": {},
   "source": [
    "curl https://87g554i96c.execute-api.us-east-1.amazonaws.com/Production/warning/history?participant_id=testuser&start_date=(start_date)&end_date=(end_date)&event_type=Military%20Activity&country=(country)&page=0\\\n",
    "    -H \"x-api-key:testuser:mysecretkey\"\\"
   ]
  },
  {
   "cell_type": "markdown",
   "metadata": {},
   "source": [
    "## Using Python"
   ]
  },
  {
   "cell_type": "code",
   "execution_count": 1,
   "metadata": {
    "collapsed": false
   },
   "outputs": [],
   "source": [
    "import requests\n",
    "from uuid import uuid4 #Used to generate unique warning IDs\n",
    "from pprint import pprint\n",
    "from collections import OrderedDict\n",
    "import re\n",
    "\n",
    "secret_token = \"mysecretkey\"\n",
    "userid = \"testuser\"\n",
    "HISTORY_URL = \"https://87g554i96c.execute-api.us-east-1.amazonaws.com/Production/warning/history\"\n",
    "headers = {'x-api-key':'{0}:{1}'.format(userid, secret_token)}"
   ]
  },
  {
   "cell_type": "markdown",
   "metadata": {},
   "source": [
    "Below we build a Python **dict** for our query submission. The keys for this dict will include any required and optional query elements.  In this example we use an OrderedDict to preserve the order of the dict keys."
   ]
  },
  {
   "cell_type": "code",
   "execution_count": 2,
   "metadata": {
    "collapsed": false
   },
   "outputs": [
    {
     "name": "stdout",
     "output_type": "stream",
     "text": [
      "OrderedDict([('participant_id', 'testuser'),\n",
      "             ('start_date', '2010-01-01'),\n",
      "             ('end_date', '2020-08-31'),\n",
      "             ('event_type', 'Military Activity'),\n",
      "             ('country', 'Syria'),\n",
      "             ('page', 0)])\n"
     ]
    }
   ],
   "source": [
    "query_dict = OrderedDict()\n",
    "\n",
    "query_dict[\"participant_id\"] = userid\n",
    "query_dict[\"start_date\"] = \"2010-01-01\"\n",
    "query_dict[\"end_date\"] = \"2020-08-31\"\n",
    "query_dict[\"event_type\"] = \"Military Activity\"\n",
    "query_dict[\"country\"] = \"Syria\"\n",
    "query_dict[\"page\"] = 0\n",
    "pprint(query_dict)"
   ]
  },
  {
   "cell_type": "markdown",
   "metadata": {},
   "source": [
    "We now convert the `query_dict` to a string and append it to the history URL."
   ]
  },
  {
   "cell_type": "code",
   "execution_count": 3,
   "metadata": {
    "collapsed": false
   },
   "outputs": [
    {
     "name": "stdout",
     "output_type": "stream",
     "text": [
      "participant_id=testuser&start_date=2010-01-01&end_date=2020-08-31&event_type=Military Activity&country=Syria&page=0\n",
      "Revised URL is https://87g554i96c.execute-api.us-east-1.amazonaws.com/Production/warning/history?participant_id=testuser&start_date=2010-01-01&end_date=2020-08-31&event_type=Military%20Activity&country=Syria&page=0\n"
     ]
    }
   ],
   "source": [
    "query_str = \"&\".join([\"=\".join((k, str(v))) for k,v in query_dict.items()])\n",
    "print(query_str)\n",
    "\n",
    "url = HISTORY_URL + \"?\" + query_str\n",
    "url = re.sub(\" \", \"%20\", url)\n",
    "print(\"Revised URL is {}\".format(url))"
   ]
  },
  {
   "cell_type": "markdown",
   "metadata": {},
   "source": [
    "Using the `get` method for requests we make our query.  We can then examine the `json` attribute of the returned results to see if our submission was successful."
   ]
  },
  {
   "cell_type": "code",
   "execution_count": 4,
   "metadata": {
    "collapsed": false
   },
   "outputs": [
    {
     "name": "stdout",
     "output_type": "stream",
     "text": [
      "['Page: 0 of 0',\n",
      " {'Actor': 'Syrian Arab Military',\n",
      "  'City': 'Al Maḩmūdīyah',\n",
      "  'Country': 'Syria',\n",
      "  'Event_Date': '2016-02-18',\n",
      "  'Event_Subtype': 'Conflict',\n",
      "  'Event_Type': 'Military Activity',\n",
      "  'Latitude': 35.9143,\n",
      "  'Longitude': 38.0711,\n",
      "  'State': 'Aleppo',\n",
      "  'Warning_ID': 'BaserateConflict1',\n",
      "  'latest': True,\n",
      "  'participant_id': 'testuser',\n",
      "  'sequence': 1,\n",
      "  'timestamp': '2018-07-31T18:23:06.253844'},\n",
      " {'Actor': 'Syrian Arab Military',\n",
      "  'City': 'Al Maḩmūdīyah',\n",
      "  'Country': 'Syria',\n",
      "  'Event_Date': '2016-02-18',\n",
      "  'Event_Subtype': 'Conflict',\n",
      "  'Event_Type': 'Military Activity',\n",
      "  'Latitude': 35.9143,\n",
      "  'Longitude': 38.0711,\n",
      "  'State': 'Aleppo',\n",
      "  'Warning_ID': 'testhandle_Warning1',\n",
      "  'latest': True,\n",
      "  'participant_id': 'testuser',\n",
      "  'sequence': 1,\n",
      "  'timestamp': '2018-08-08T16:24:51.788294'},\n",
      " {'Actor': 'Syrian Arab Military',\n",
      "  'City': 'Al Maḩmūdīyah',\n",
      "  'Country': 'Syria',\n",
      "  'Event_Date': '2016-02-18',\n",
      "  'Event_Subtype': 'Conflict',\n",
      "  'Event_Type': 'Military Activity',\n",
      "  'Latitude': 35.9143,\n",
      "  'Longitude': 38.0711,\n",
      "  'State': 'Aleppo',\n",
      "  'Warning_ID': 'testhandle_Warning123',\n",
      "  'latest': False,\n",
      "  'participant_id': 'testuser',\n",
      "  'sequence': 1,\n",
      "  'timestamp': '2018-08-29T13:03:53.658438'},\n",
      " {'Actor': 'Syrian Arab Military',\n",
      "  'City': 'Al Maḩmūdīyah',\n",
      "  'Country': 'Syria',\n",
      "  'Event_Date': '2016-02-18',\n",
      "  'Event_Subtype': 'Conflict',\n",
      "  'Event_Type': 'Military Activity',\n",
      "  'Latitude': 35.9143,\n",
      "  'Longitude': 38.0711,\n",
      "  'State': 'Aleppo',\n",
      "  'Warning_ID': 'testhandle_Warning123',\n",
      "  'latest': False,\n",
      "  'participant_id': 'testuser',\n",
      "  'sequence': 5,\n",
      "  'timestamp': '2018-09-17T15:00:06.314031'},\n",
      " {'Actor': 'Syrian Arab Military',\n",
      "  'City': 'Al Maḩmūdīyah',\n",
      "  'Country': 'Syria',\n",
      "  'Event_Date': '2016-02-18',\n",
      "  'Event_Subtype': 'Conflict',\n",
      "  'Event_Type': 'Military Activity',\n",
      "  'Latitude': 35.9143,\n",
      "  'Longitude': 38.0711,\n",
      "  'State': 'Aleppo',\n",
      "  'Warning_ID': 'testhandle_Warning123',\n",
      "  'latest': False,\n",
      "  'participant_id': 'testuser',\n",
      "  'sequence': 3,\n",
      "  'timestamp': '2018-09-11T16:06:10.972948'},\n",
      " {'Actor': 'Syrian Arab Military',\n",
      "  'City': 'Al Maḩmūdīyah',\n",
      "  'Country': 'Syria',\n",
      "  'Event_Date': '2016-02-18',\n",
      "  'Event_Subtype': 'Conflict',\n",
      "  'Event_Type': 'Military Activity',\n",
      "  'Latitude': 35.9143,\n",
      "  'Longitude': 38.0711,\n",
      "  'State': 'Aleppo',\n",
      "  'Warning_ID': 'testhandle_Warning123',\n",
      "  'latest': False,\n",
      "  'participant_id': 'testuser',\n",
      "  'sequence': 2,\n",
      "  'timestamp': '2018-09-07T12:59:42.616209'},\n",
      " {'Actor': 'Syrian Arab Military',\n",
      "  'City': 'Al Maḩmūdīyah',\n",
      "  'Country': 'Syria',\n",
      "  'Event_Date': '2016-02-18',\n",
      "  'Event_Subtype': 'Conflict',\n",
      "  'Event_Type': 'Military Activity',\n",
      "  'Latitude': 35.9143,\n",
      "  'Longitude': 38.0711,\n",
      "  'State': 'Aleppo',\n",
      "  'Warning_ID': 'testhandle_Warning123',\n",
      "  'latest': False,\n",
      "  'participant_id': 'testuser',\n",
      "  'sequence': 4,\n",
      "  'timestamp': '2018-09-14T13:01:14.698985'},\n",
      " {'Actor': 'Syrian Arab Military',\n",
      "  'City': 'somewhere',\n",
      "  'Country': 'Syria',\n",
      "  'Event_Date': '2016-02-18',\n",
      "  'Event_Subtype': 'Conflict',\n",
      "  'Event_Type': 'Military Activity',\n",
      "  'Latitude': 35.9143,\n",
      "  'Longitude': 38.0711,\n",
      "  'State': 'somewhere',\n",
      "  'Warning_ID': 'testhandle_Warning1234',\n",
      "  'latest': True,\n",
      "  'participant_id': 'testuser',\n",
      "  'sequence': 1,\n",
      "  'timestamp': '2018-09-20T12:08:20.379855'},\n",
      " {'Actor': 'Syrian Arab Military',\n",
      "  'City': 'Al Maḩmūdīyah',\n",
      "  'Country': 'Syria',\n",
      "  'Event_Date': '2016-02-18',\n",
      "  'Event_Subtype': 'Conflict',\n",
      "  'Event_Type': 'Military Activity',\n",
      "  'Latitude': 35.9143,\n",
      "  'Longitude': 38.0711,\n",
      "  'State': 'Aleppo',\n",
      "  'Warning_ID': 'testhandle_Warning123',\n",
      "  'latest': False,\n",
      "  'participant_id': 'testuser',\n",
      "  'sequence': 6,\n",
      "  'timestamp': '2018-09-18T12:39:41.527160'},\n",
      " {'Actor': 'Syrian Arab Military',\n",
      "  'City': 'somewhere',\n",
      "  'Country': 'Syria',\n",
      "  'Event_Date': '2016-02-18',\n",
      "  'Event_Subtype': 'Conflict',\n",
      "  'Event_Type': 'Military Activity',\n",
      "  'Latitude': 35.9143,\n",
      "  'Longitude': 38.0711,\n",
      "  'State': 'Aleppo',\n",
      "  'Warning_ID': 'testhandle_Warning123',\n",
      "  'latest': True,\n",
      "  'participant_id': 'testuser',\n",
      "  'sequence': 7,\n",
      "  'timestamp': '2018-09-20T12:07:46.142967'},\n",
      " {'Actor': 'Syrian Arab Military',\n",
      "  'Country': 'Syria',\n",
      "  'Event_Date': '2016-02-18',\n",
      "  'Event_Subtype': 'Conflict',\n",
      "  'Event_Type': 'Military Activity',\n",
      "  'Latitude': 35.9143,\n",
      "  'Longitude': 38.0711,\n",
      "  'Warning_ID': 'testhandle_Warning12345',\n",
      "  'latest': False,\n",
      "  'participant_id': 'testuser',\n",
      "  'sequence': 1,\n",
      "  'timestamp': '2018-09-20T12:09:59.340630'},\n",
      " {'Actor': 'Syrian Arab Military',\n",
      "  'Country': 'Syria',\n",
      "  'Event_Date': '2016-02-18',\n",
      "  'Event_Subtype': 'Conflict',\n",
      "  'Event_Type': 'Military Activity',\n",
      "  'Latitude': 35.9143,\n",
      "  'Longitude': 38.0711,\n",
      "  'Warning_ID': 'testhandle_Warning12345',\n",
      "  'latest': True,\n",
      "  'participant_id': 'testuser',\n",
      "  'sequence': 2,\n",
      "  'timestamp': '2018-09-25T12:03:03.539823'}]\n"
     ]
    }
   ],
   "source": [
    "result = requests.get(url, headers=headers)\n",
    "\n",
    "pprint(result.json())"
   ]
  },
  {
   "cell_type": "markdown",
   "metadata": {},
   "source": [
    "## Results"
   ]
  },
  {
   "cell_type": "markdown",
   "metadata": {},
   "source": [
    "If your retrieval request is successful you will see an output similar to what is shown below (truncated for clarity).  The first item in the list is a string that tells you which page you are on and how many pages match your query.  The remaining elements are a list of your warnings."
   ]
  },
  {
   "cell_type": "raw",
   "metadata": {},
   "source": [
    "['Page: 0 of 0',\n",
    " {'Actor': 'Syrian Arab Military',\n",
    "  'City': 'Al Maḩmūdīyah',\n",
    "  'Country': 'Syria',\n",
    "  'Event_Date': '2016-02-18',\n",
    "  'Event_Subtype': 'Conflict',\n",
    "  'Event_Type': 'Military Activity',\n",
    "  'Latitude': 35.9143,\n",
    "  'Longitude': 38.0711,\n",
    "  'State': 'Aleppo',\n",
    "  'Warning_ID': 'BaserateConflict1',\n",
    "  'latest': True,\n",
    "  'participant_id': 'testuser',\n",
    "  'sequence': 1,\n",
    "  'timestamp': '2018-07-31T18:23:06.253844'},...]"
   ]
  },
  {
   "cell_type": "markdown",
   "metadata": {},
   "source": [
    "### Problems"
   ]
  },
  {
   "cell_type": "markdown",
   "metadata": {},
   "source": [
    "Here we describe several errors in output and how to try to address them."
   ]
  },
  {
   "cell_type": "raw",
   "metadata": {},
   "source": [
    "\"Participant not matching\""
   ]
  },
  {
   "cell_type": "markdown",
   "metadata": {},
   "source": [
    "This means that the `participant_id` in your query content doesn't match the participant id in your header."
   ]
  },
  {
   "cell_type": "code",
   "execution_count": 5,
   "metadata": {
    "collapsed": false
   },
   "outputs": [
    {
     "name": "stdout",
     "output_type": "stream",
     "text": [
      "{'message': 'Forbidden'}\n"
     ]
    }
   ],
   "source": [
    "bad_token = \"invalid_token\"\n",
    "bad_headers = {'x-api-key':'{0}:{1}'.format(userid, bad_token),\n",
    "           'Content-Type': 'application/json'}\n",
    "bad_result = requests.get(url, headers=bad_headers)\n",
    "pprint(bad_result.json())"
   ]
  },
  {
   "cell_type": "raw",
   "metadata": {},
   "source": [
    "{'message': 'Forbidden'}"
   ]
  },
  {
   "cell_type": "markdown",
   "metadata": {},
   "source": [
    "This indicates a mismatch between the participant ID and the API Key used in the request header."
   ]
  },
  {
   "cell_type": "code",
   "execution_count": 6,
   "metadata": {
    "collapsed": false
   },
   "outputs": [
    {
     "name": "stdout",
     "output_type": "stream",
     "text": [
      "[]\n"
     ]
    }
   ],
   "source": [
    "query_dict = OrderedDict()\n",
    "\n",
    "query_dict[\"participant_id\"] = userid\n",
    "query_dict[\"start_date\"] = \"2010-01-01\"\n",
    "query_dict[\"end_date\"] = \"2020-08-31\"\n",
    "query_dict[\"event_type\"] = \"Bogus Event Type\"\n",
    "query_dict[\"country\"] = \"Syria\"\n",
    "query_dict[\"page\"] = 0\n",
    "query_str = \"&\".join([\"=\".join((k, str(v))) for k,v in query_dict.items()])\n",
    "url = HISTORY_URL + \"?\" + query_str\n",
    "url = re.sub(\" \", \"%20\", url)\n",
    "bad_result = requests.get(url, headers=headers)\n",
    "pprint(bad_result.json())"
   ]
  },
  {
   "cell_type": "raw",
   "metadata": {},
   "source": [
    "[]"
   ]
  },
  {
   "cell_type": "markdown",
   "metadata": {},
   "source": [
    "This is a valid result, it just means that your query didn't return any results at all.  Check for legal event type, country, date range, and page."
   ]
  }
 ],
 "metadata": {
  "kernelspec": {
   "display_name": "Python 3",
   "language": "python",
   "name": "python3"
  },
  "language_info": {
   "codemirror_mode": {
    "name": "ipython",
    "version": 3
   },
   "file_extension": ".py",
   "mimetype": "text/x-python",
   "name": "python",
   "nbconvert_exporter": "python",
   "pygments_lexer": "ipython3",
   "version": "3.5.2"
  }
 },
 "nbformat": 4,
 "nbformat_minor": 2
}
